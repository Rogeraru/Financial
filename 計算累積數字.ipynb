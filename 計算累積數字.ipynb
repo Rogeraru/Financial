{
  "nbformat": 4,
  "nbformat_minor": 0,
  "metadata": {
    "colab": {
      "provenance": [],
      "authorship_tag": "ABX9TyNeOXcuijtRr1PKqDECmdcM",
      "include_colab_link": true
    },
    "kernelspec": {
      "name": "python3",
      "display_name": "Python 3"
    },
    "language_info": {
      "name": "python"
    }
  },
  "cells": [
    {
      "cell_type": "markdown",
      "metadata": {
        "id": "view-in-github",
        "colab_type": "text"
      },
      "source": [
        "<a href=\"https://colab.research.google.com/github/Rogeraru/Financial/blob/main/%E8%A8%88%E7%AE%97%E7%B4%AF%E7%A9%8D%E6%95%B8%E5%AD%97.ipynb\" target=\"_parent\"><img src=\"https://colab.research.google.com/assets/colab-badge.svg\" alt=\"Open In Colab\"/></a>"
      ]
    },
    {
      "cell_type": "code",
      "execution_count": null,
      "metadata": {
        "id": "4pzROH_6zIas"
      },
      "outputs": [],
      "source": [
        "q1 = 26295929\n",
        "q2 = 27668242\n",
        "q3 = 27002293\n",
        "q4 = 28347871"
      ]
    },
    {
      "cell_type": "code",
      "source": [
        "acc_q1 = q1\n",
        "print(acc_q1)\n",
        "\n",
        "acc_q2 = q1+q2\n",
        "print(acc_q2)\n",
        "\n",
        "acc_q3 = q1+q2+q3\n",
        "print(acc_q3)\n",
        "\n",
        "acc_q4 = q1+q2+q3+q4\n",
        "print(acc_q4)"
      ],
      "metadata": {
        "id": "ZhAhGy9LzQfo"
      },
      "execution_count": null,
      "outputs": []
    }
  ]
}